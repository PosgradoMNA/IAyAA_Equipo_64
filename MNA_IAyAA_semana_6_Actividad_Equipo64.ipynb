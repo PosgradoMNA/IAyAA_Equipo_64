{
  "nbformat": 4,
  "nbformat_minor": 0,
  "metadata": {
    "colab": {
      "provenance": [],
      "collapsed_sections": [],
      "toc_visible": true,
      "include_colab_link": true
    },
    "kernelspec": {
      "display_name": "Python 3",
      "name": "python3"
    }
  },
  "cells": [
    {
      "cell_type": "markdown",
      "metadata": {
        "id": "view-in-github",
        "colab_type": "text"
      },
      "source": [
        "<a href=\"https://colab.research.google.com/github/PosgradoMNA/IAyAA_Equipo_64/blob/main/MNA_IAyAA_semana_6_Actividad_Equipo64.ipynb\" target=\"_parent\"><img src=\"https://colab.research.google.com/assets/colab-badge.svg\" alt=\"Open In Colab\"/></a>"
      ]
    },
    {
      "cell_type": "markdown",
      "source": [
        "#**Maestría en Inteligencia Artificial Aplicada**\n",
        "##**Curso: Inteligencia Artificial y Aprendizaje Automático**\n",
        "###Tecnológico de Monterrey\n",
        "###Prof Luis Eduardo Falcón Morales\n",
        "\n",
        "## **Adtividad de la Semana 6**\n",
        "###**Árboles de decisión y bosque aleatorio.**\n"
      ],
      "metadata": {
        "id": "VFj0sSM06dYa"
      }
    },
    {
      "cell_type": "markdown",
      "source": [
        "**Nombres y matrículas de los integrantes del equipo:**\n",
        "\n",
        "*   Andres Javier Galindo Vargas - A01793927\n",
        "*   Diego Alberto Olarte Mira - A01794028\n",
        "*   Fredy Reyes Sanchez - A01687370\n",
        "*   Jose Antonio Saenz Ramirez - A01793884\n",
        "*   Roberto Vega Alanis - A01378921\n"
      ],
      "metadata": {
        "id": "Qgrvy0RGB9XI"
      }
    },
    {
      "cell_type": "markdown",
      "source": [
        "En cada sección deberás incluir todas las líneas de código necesarias para responder a cada uno de los ejercicios."
      ],
      "metadata": {
        "id": "FrJ2ahMODVj1"
      }
    },
    {
      "cell_type": "code",
      "source": [
        "# Incluye aquí todos módulos, librerías y paquetes que requieras.\n",
        "\n",
        "# Manipulación de datos\n",
        "import pandas as pd\n",
        "import numpy as np\n",
        "\n",
        "# Visualización\n",
        "import matplotlib.pyplot as plt \n",
        "import seaborn as sns \n",
        "\n",
        "# Para hacer las particiones\n",
        "from sklearn.model_selection import train_test_split\n",
        "\n",
        "# Objetos de orquestación\n",
        "from sklearn.pipeline import Pipeline\n",
        "from sklearn.compose import ColumnTransformer\n",
        "\n",
        "# Objectos de limpieza y preprocesamiento de datos\n",
        "from sklearn.impute import SimpleImputer\n",
        "from sklearn.preprocessing import MinMaxScaler, StandardScaler, OneHotEncoder, FunctionTransformer\n",
        "\n",
        "# Modelos a utilizar\n",
        "from sklearn.linear_model import LogisticRegression\n",
        "from sklearn.tree import DecisionTreeClassifier\n",
        "from sklearn.ensemble import RandomForestClassifier\n",
        "\n",
        "# Elementos para las métricas\n",
        "from sklearn.metrics import confusion_matrix         \n",
        "from sklearn.metrics import classification_report, make_scorer\n",
        "from sklearn.model_selection import  cross_validate,  RepeatedStratifiedKFold\n",
        "\n",
        "# Curvas de aprendizaje y validación\n",
        "from sklearn.model_selection import learning_curve, validation_curve\n",
        "\n",
        "import os"
      ],
      "metadata": {
        "id": "exXsscs-Dh-2"
      },
      "execution_count": 10,
      "outputs": []
    },
    {
      "cell_type": "markdown",
      "metadata": {
        "id": "X25brD-gQdZM"
      },
      "source": [
        "#**Ejercicio-1.** "
      ]
    },
    {
      "cell_type": "markdown",
      "source": [
        "1. Carga los datos y sustituye los nombres de las columnas del alemán al inglés de acuerdo a como\n",
        "se indica en la página de la UCI."
      ],
      "metadata": {
        "id": "cFetPm_V7x6f"
      }
    },
    {
      "cell_type": "code",
      "source": [
        "# se descargar el archivo del sitio  https://archive.ics.uci.edu/ml/machine-learning-databases/00522/\n",
        "# se sube a la ruta a repositorio GitHub del equipo y se hace la lectura del archivo.\n",
        "df= pd.read_csv('https://raw.githubusercontent.com/PosgradoMNA/IAyAA_Equipo_64/main/Actividad_Semana_6/Dataset/SouthGermanCredit.asc', sep='\\s+')\n",
        "df.head()"
      ],
      "metadata": {
        "id": "0ulkqXVGCy97",
        "colab": {
          "base_uri": "https://localhost:8080/",
          "height": 235
        },
        "outputId": "95b0558a-3ed7-469f-c5cd-444f0991764a"
      },
      "execution_count": 11,
      "outputs": [
        {
          "output_type": "execute_result",
          "data": {
            "text/plain": [
              "   laufkont  laufzeit  moral  verw  hoehe  sparkont  beszeit  rate  famges  \\\n",
              "0         1        18      4     2   1049         1        2     4       2   \n",
              "1         1         9      4     0   2799         1        3     2       3   \n",
              "2         2        12      2     9    841         2        4     2       2   \n",
              "3         1        12      4     0   2122         1        3     3       3   \n",
              "4         1        12      4     0   2171         1        3     4       3   \n",
              "\n",
              "   buerge  ...  verm  alter  weitkred  wohn  bishkred  beruf  pers  telef  \\\n",
              "0       1  ...     2     21         3     1         1      3     2      1   \n",
              "1       1  ...     1     36         3     1         2      3     1      1   \n",
              "2       1  ...     1     23         3     1         1      2     2      1   \n",
              "3       1  ...     1     39         3     1         2      2     1      1   \n",
              "4       1  ...     2     38         1     2         2      2     2      1   \n",
              "\n",
              "   gastarb  kredit  \n",
              "0        2       1  \n",
              "1        2       1  \n",
              "2        2       1  \n",
              "3        1       1  \n",
              "4        1       1  \n",
              "\n",
              "[5 rows x 21 columns]"
            ],
            "text/html": [
              "\n",
              "  <div id=\"df-c36ffb0c-919c-4d6a-9635-ab0022693af3\">\n",
              "    <div class=\"colab-df-container\">\n",
              "      <div>\n",
              "<style scoped>\n",
              "    .dataframe tbody tr th:only-of-type {\n",
              "        vertical-align: middle;\n",
              "    }\n",
              "\n",
              "    .dataframe tbody tr th {\n",
              "        vertical-align: top;\n",
              "    }\n",
              "\n",
              "    .dataframe thead th {\n",
              "        text-align: right;\n",
              "    }\n",
              "</style>\n",
              "<table border=\"1\" class=\"dataframe\">\n",
              "  <thead>\n",
              "    <tr style=\"text-align: right;\">\n",
              "      <th></th>\n",
              "      <th>laufkont</th>\n",
              "      <th>laufzeit</th>\n",
              "      <th>moral</th>\n",
              "      <th>verw</th>\n",
              "      <th>hoehe</th>\n",
              "      <th>sparkont</th>\n",
              "      <th>beszeit</th>\n",
              "      <th>rate</th>\n",
              "      <th>famges</th>\n",
              "      <th>buerge</th>\n",
              "      <th>...</th>\n",
              "      <th>verm</th>\n",
              "      <th>alter</th>\n",
              "      <th>weitkred</th>\n",
              "      <th>wohn</th>\n",
              "      <th>bishkred</th>\n",
              "      <th>beruf</th>\n",
              "      <th>pers</th>\n",
              "      <th>telef</th>\n",
              "      <th>gastarb</th>\n",
              "      <th>kredit</th>\n",
              "    </tr>\n",
              "  </thead>\n",
              "  <tbody>\n",
              "    <tr>\n",
              "      <th>0</th>\n",
              "      <td>1</td>\n",
              "      <td>18</td>\n",
              "      <td>4</td>\n",
              "      <td>2</td>\n",
              "      <td>1049</td>\n",
              "      <td>1</td>\n",
              "      <td>2</td>\n",
              "      <td>4</td>\n",
              "      <td>2</td>\n",
              "      <td>1</td>\n",
              "      <td>...</td>\n",
              "      <td>2</td>\n",
              "      <td>21</td>\n",
              "      <td>3</td>\n",
              "      <td>1</td>\n",
              "      <td>1</td>\n",
              "      <td>3</td>\n",
              "      <td>2</td>\n",
              "      <td>1</td>\n",
              "      <td>2</td>\n",
              "      <td>1</td>\n",
              "    </tr>\n",
              "    <tr>\n",
              "      <th>1</th>\n",
              "      <td>1</td>\n",
              "      <td>9</td>\n",
              "      <td>4</td>\n",
              "      <td>0</td>\n",
              "      <td>2799</td>\n",
              "      <td>1</td>\n",
              "      <td>3</td>\n",
              "      <td>2</td>\n",
              "      <td>3</td>\n",
              "      <td>1</td>\n",
              "      <td>...</td>\n",
              "      <td>1</td>\n",
              "      <td>36</td>\n",
              "      <td>3</td>\n",
              "      <td>1</td>\n",
              "      <td>2</td>\n",
              "      <td>3</td>\n",
              "      <td>1</td>\n",
              "      <td>1</td>\n",
              "      <td>2</td>\n",
              "      <td>1</td>\n",
              "    </tr>\n",
              "    <tr>\n",
              "      <th>2</th>\n",
              "      <td>2</td>\n",
              "      <td>12</td>\n",
              "      <td>2</td>\n",
              "      <td>9</td>\n",
              "      <td>841</td>\n",
              "      <td>2</td>\n",
              "      <td>4</td>\n",
              "      <td>2</td>\n",
              "      <td>2</td>\n",
              "      <td>1</td>\n",
              "      <td>...</td>\n",
              "      <td>1</td>\n",
              "      <td>23</td>\n",
              "      <td>3</td>\n",
              "      <td>1</td>\n",
              "      <td>1</td>\n",
              "      <td>2</td>\n",
              "      <td>2</td>\n",
              "      <td>1</td>\n",
              "      <td>2</td>\n",
              "      <td>1</td>\n",
              "    </tr>\n",
              "    <tr>\n",
              "      <th>3</th>\n",
              "      <td>1</td>\n",
              "      <td>12</td>\n",
              "      <td>4</td>\n",
              "      <td>0</td>\n",
              "      <td>2122</td>\n",
              "      <td>1</td>\n",
              "      <td>3</td>\n",
              "      <td>3</td>\n",
              "      <td>3</td>\n",
              "      <td>1</td>\n",
              "      <td>...</td>\n",
              "      <td>1</td>\n",
              "      <td>39</td>\n",
              "      <td>3</td>\n",
              "      <td>1</td>\n",
              "      <td>2</td>\n",
              "      <td>2</td>\n",
              "      <td>1</td>\n",
              "      <td>1</td>\n",
              "      <td>1</td>\n",
              "      <td>1</td>\n",
              "    </tr>\n",
              "    <tr>\n",
              "      <th>4</th>\n",
              "      <td>1</td>\n",
              "      <td>12</td>\n",
              "      <td>4</td>\n",
              "      <td>0</td>\n",
              "      <td>2171</td>\n",
              "      <td>1</td>\n",
              "      <td>3</td>\n",
              "      <td>4</td>\n",
              "      <td>3</td>\n",
              "      <td>1</td>\n",
              "      <td>...</td>\n",
              "      <td>2</td>\n",
              "      <td>38</td>\n",
              "      <td>1</td>\n",
              "      <td>2</td>\n",
              "      <td>2</td>\n",
              "      <td>2</td>\n",
              "      <td>2</td>\n",
              "      <td>1</td>\n",
              "      <td>1</td>\n",
              "      <td>1</td>\n",
              "    </tr>\n",
              "  </tbody>\n",
              "</table>\n",
              "<p>5 rows × 21 columns</p>\n",
              "</div>\n",
              "      <button class=\"colab-df-convert\" onclick=\"convertToInteractive('df-c36ffb0c-919c-4d6a-9635-ab0022693af3')\"\n",
              "              title=\"Convert this dataframe to an interactive table.\"\n",
              "              style=\"display:none;\">\n",
              "        \n",
              "  <svg xmlns=\"http://www.w3.org/2000/svg\" height=\"24px\"viewBox=\"0 0 24 24\"\n",
              "       width=\"24px\">\n",
              "    <path d=\"M0 0h24v24H0V0z\" fill=\"none\"/>\n",
              "    <path d=\"M18.56 5.44l.94 2.06.94-2.06 2.06-.94-2.06-.94-.94-2.06-.94 2.06-2.06.94zm-11 1L8.5 8.5l.94-2.06 2.06-.94-2.06-.94L8.5 2.5l-.94 2.06-2.06.94zm10 10l.94 2.06.94-2.06 2.06-.94-2.06-.94-.94-2.06-.94 2.06-2.06.94z\"/><path d=\"M17.41 7.96l-1.37-1.37c-.4-.4-.92-.59-1.43-.59-.52 0-1.04.2-1.43.59L10.3 9.45l-7.72 7.72c-.78.78-.78 2.05 0 2.83L4 21.41c.39.39.9.59 1.41.59.51 0 1.02-.2 1.41-.59l7.78-7.78 2.81-2.81c.8-.78.8-2.07 0-2.86zM5.41 20L4 18.59l7.72-7.72 1.47 1.35L5.41 20z\"/>\n",
              "  </svg>\n",
              "      </button>\n",
              "      \n",
              "  <style>\n",
              "    .colab-df-container {\n",
              "      display:flex;\n",
              "      flex-wrap:wrap;\n",
              "      gap: 12px;\n",
              "    }\n",
              "\n",
              "    .colab-df-convert {\n",
              "      background-color: #E8F0FE;\n",
              "      border: none;\n",
              "      border-radius: 50%;\n",
              "      cursor: pointer;\n",
              "      display: none;\n",
              "      fill: #1967D2;\n",
              "      height: 32px;\n",
              "      padding: 0 0 0 0;\n",
              "      width: 32px;\n",
              "    }\n",
              "\n",
              "    .colab-df-convert:hover {\n",
              "      background-color: #E2EBFA;\n",
              "      box-shadow: 0px 1px 2px rgba(60, 64, 67, 0.3), 0px 1px 3px 1px rgba(60, 64, 67, 0.15);\n",
              "      fill: #174EA6;\n",
              "    }\n",
              "\n",
              "    [theme=dark] .colab-df-convert {\n",
              "      background-color: #3B4455;\n",
              "      fill: #D2E3FC;\n",
              "    }\n",
              "\n",
              "    [theme=dark] .colab-df-convert:hover {\n",
              "      background-color: #434B5C;\n",
              "      box-shadow: 0px 1px 3px 1px rgba(0, 0, 0, 0.15);\n",
              "      filter: drop-shadow(0px 1px 2px rgba(0, 0, 0, 0.3));\n",
              "      fill: #FFFFFF;\n",
              "    }\n",
              "  </style>\n",
              "\n",
              "      <script>\n",
              "        const buttonEl =\n",
              "          document.querySelector('#df-c36ffb0c-919c-4d6a-9635-ab0022693af3 button.colab-df-convert');\n",
              "        buttonEl.style.display =\n",
              "          google.colab.kernel.accessAllowed ? 'block' : 'none';\n",
              "\n",
              "        async function convertToInteractive(key) {\n",
              "          const element = document.querySelector('#df-c36ffb0c-919c-4d6a-9635-ab0022693af3');\n",
              "          const dataTable =\n",
              "            await google.colab.kernel.invokeFunction('convertToInteractive',\n",
              "                                                     [key], {});\n",
              "          if (!dataTable) return;\n",
              "\n",
              "          const docLinkHtml = 'Like what you see? Visit the ' +\n",
              "            '<a target=\"_blank\" href=https://colab.research.google.com/notebooks/data_table.ipynb>data table notebook</a>'\n",
              "            + ' to learn more about interactive tables.';\n",
              "          element.innerHTML = '';\n",
              "          dataTable['output_type'] = 'display_data';\n",
              "          await google.colab.output.renderOutput(dataTable, element);\n",
              "          const docLink = document.createElement('div');\n",
              "          docLink.innerHTML = docLinkHtml;\n",
              "          element.appendChild(docLink);\n",
              "        }\n",
              "      </script>\n",
              "    </div>\n",
              "  </div>\n",
              "  "
            ]
          },
          "metadata": {},
          "execution_count": 11
        }
      ]
    },
    {
      "cell_type": "code",
      "source": [
        "# realiza el cambio a los nombres de las columnas del dataframe df - Ingles\n",
        "df.rename(columns = {\n",
        "    'laufkont':'status',\n",
        "    'laufzeit':'duration',\n",
        "    'moral':'credit_history',\n",
        "    'verw':'purpose',\n",
        "    'hoehe':'amount',\n",
        "    'sparkont':'savings',\n",
        "    'beszeit':'employment_duration',\n",
        "    'rate':'installment_rate',\n",
        "    'famges':'personal_status_sex',\n",
        "    'buerge':'other_debtors',\n",
        "    'wohnzeit':'present_residence',\n",
        "    'verm':'property',\n",
        "    'alter':'age',\n",
        "    'weitkred':'other_installment_plans',\n",
        "    'wohn':'housing',\n",
        "    'bishkred':'number_credits',\n",
        "    'beruf':'job',\n",
        "    'pers':'people_liable',\n",
        "    'telef':'telephone',\n",
        "    'gastarb':'foreign_worker',\n",
        "    'kredit':'credit_risk'\n",
        "}, inplace = True)\n",
        "df.head()\n"
      ],
      "metadata": {
        "colab": {
          "base_uri": "https://localhost:8080/",
          "height": 299
        },
        "id": "39A3J3-v-S60",
        "outputId": "c990a3cc-d9e3-4c0b-eff5-6122ebdabbf1"
      },
      "execution_count": 12,
      "outputs": [
        {
          "output_type": "execute_result",
          "data": {
            "text/plain": [
              "   status  duration  credit_history  purpose  amount  savings  \\\n",
              "0       1        18               4        2    1049        1   \n",
              "1       1         9               4        0    2799        1   \n",
              "2       2        12               2        9     841        2   \n",
              "3       1        12               4        0    2122        1   \n",
              "4       1        12               4        0    2171        1   \n",
              "\n",
              "   employment_duration  installment_rate  personal_status_sex  other_debtors  \\\n",
              "0                    2                 4                    2              1   \n",
              "1                    3                 2                    3              1   \n",
              "2                    4                 2                    2              1   \n",
              "3                    3                 3                    3              1   \n",
              "4                    3                 4                    3              1   \n",
              "\n",
              "   ...  property  age  other_installment_plans  housing  number_credits  job  \\\n",
              "0  ...         2   21                        3        1               1    3   \n",
              "1  ...         1   36                        3        1               2    3   \n",
              "2  ...         1   23                        3        1               1    2   \n",
              "3  ...         1   39                        3        1               2    2   \n",
              "4  ...         2   38                        1        2               2    2   \n",
              "\n",
              "   people_liable  telephone  foreign_worker  credit_risk  \n",
              "0              2          1               2            1  \n",
              "1              1          1               2            1  \n",
              "2              2          1               2            1  \n",
              "3              1          1               1            1  \n",
              "4              2          1               1            1  \n",
              "\n",
              "[5 rows x 21 columns]"
            ],
            "text/html": [
              "\n",
              "  <div id=\"df-0a09c1b9-b1ae-406e-9e7a-156a126ced0d\">\n",
              "    <div class=\"colab-df-container\">\n",
              "      <div>\n",
              "<style scoped>\n",
              "    .dataframe tbody tr th:only-of-type {\n",
              "        vertical-align: middle;\n",
              "    }\n",
              "\n",
              "    .dataframe tbody tr th {\n",
              "        vertical-align: top;\n",
              "    }\n",
              "\n",
              "    .dataframe thead th {\n",
              "        text-align: right;\n",
              "    }\n",
              "</style>\n",
              "<table border=\"1\" class=\"dataframe\">\n",
              "  <thead>\n",
              "    <tr style=\"text-align: right;\">\n",
              "      <th></th>\n",
              "      <th>status</th>\n",
              "      <th>duration</th>\n",
              "      <th>credit_history</th>\n",
              "      <th>purpose</th>\n",
              "      <th>amount</th>\n",
              "      <th>savings</th>\n",
              "      <th>employment_duration</th>\n",
              "      <th>installment_rate</th>\n",
              "      <th>personal_status_sex</th>\n",
              "      <th>other_debtors</th>\n",
              "      <th>...</th>\n",
              "      <th>property</th>\n",
              "      <th>age</th>\n",
              "      <th>other_installment_plans</th>\n",
              "      <th>housing</th>\n",
              "      <th>number_credits</th>\n",
              "      <th>job</th>\n",
              "      <th>people_liable</th>\n",
              "      <th>telephone</th>\n",
              "      <th>foreign_worker</th>\n",
              "      <th>credit_risk</th>\n",
              "    </tr>\n",
              "  </thead>\n",
              "  <tbody>\n",
              "    <tr>\n",
              "      <th>0</th>\n",
              "      <td>1</td>\n",
              "      <td>18</td>\n",
              "      <td>4</td>\n",
              "      <td>2</td>\n",
              "      <td>1049</td>\n",
              "      <td>1</td>\n",
              "      <td>2</td>\n",
              "      <td>4</td>\n",
              "      <td>2</td>\n",
              "      <td>1</td>\n",
              "      <td>...</td>\n",
              "      <td>2</td>\n",
              "      <td>21</td>\n",
              "      <td>3</td>\n",
              "      <td>1</td>\n",
              "      <td>1</td>\n",
              "      <td>3</td>\n",
              "      <td>2</td>\n",
              "      <td>1</td>\n",
              "      <td>2</td>\n",
              "      <td>1</td>\n",
              "    </tr>\n",
              "    <tr>\n",
              "      <th>1</th>\n",
              "      <td>1</td>\n",
              "      <td>9</td>\n",
              "      <td>4</td>\n",
              "      <td>0</td>\n",
              "      <td>2799</td>\n",
              "      <td>1</td>\n",
              "      <td>3</td>\n",
              "      <td>2</td>\n",
              "      <td>3</td>\n",
              "      <td>1</td>\n",
              "      <td>...</td>\n",
              "      <td>1</td>\n",
              "      <td>36</td>\n",
              "      <td>3</td>\n",
              "      <td>1</td>\n",
              "      <td>2</td>\n",
              "      <td>3</td>\n",
              "      <td>1</td>\n",
              "      <td>1</td>\n",
              "      <td>2</td>\n",
              "      <td>1</td>\n",
              "    </tr>\n",
              "    <tr>\n",
              "      <th>2</th>\n",
              "      <td>2</td>\n",
              "      <td>12</td>\n",
              "      <td>2</td>\n",
              "      <td>9</td>\n",
              "      <td>841</td>\n",
              "      <td>2</td>\n",
              "      <td>4</td>\n",
              "      <td>2</td>\n",
              "      <td>2</td>\n",
              "      <td>1</td>\n",
              "      <td>...</td>\n",
              "      <td>1</td>\n",
              "      <td>23</td>\n",
              "      <td>3</td>\n",
              "      <td>1</td>\n",
              "      <td>1</td>\n",
              "      <td>2</td>\n",
              "      <td>2</td>\n",
              "      <td>1</td>\n",
              "      <td>2</td>\n",
              "      <td>1</td>\n",
              "    </tr>\n",
              "    <tr>\n",
              "      <th>3</th>\n",
              "      <td>1</td>\n",
              "      <td>12</td>\n",
              "      <td>4</td>\n",
              "      <td>0</td>\n",
              "      <td>2122</td>\n",
              "      <td>1</td>\n",
              "      <td>3</td>\n",
              "      <td>3</td>\n",
              "      <td>3</td>\n",
              "      <td>1</td>\n",
              "      <td>...</td>\n",
              "      <td>1</td>\n",
              "      <td>39</td>\n",
              "      <td>3</td>\n",
              "      <td>1</td>\n",
              "      <td>2</td>\n",
              "      <td>2</td>\n",
              "      <td>1</td>\n",
              "      <td>1</td>\n",
              "      <td>1</td>\n",
              "      <td>1</td>\n",
              "    </tr>\n",
              "    <tr>\n",
              "      <th>4</th>\n",
              "      <td>1</td>\n",
              "      <td>12</td>\n",
              "      <td>4</td>\n",
              "      <td>0</td>\n",
              "      <td>2171</td>\n",
              "      <td>1</td>\n",
              "      <td>3</td>\n",
              "      <td>4</td>\n",
              "      <td>3</td>\n",
              "      <td>1</td>\n",
              "      <td>...</td>\n",
              "      <td>2</td>\n",
              "      <td>38</td>\n",
              "      <td>1</td>\n",
              "      <td>2</td>\n",
              "      <td>2</td>\n",
              "      <td>2</td>\n",
              "      <td>2</td>\n",
              "      <td>1</td>\n",
              "      <td>1</td>\n",
              "      <td>1</td>\n",
              "    </tr>\n",
              "  </tbody>\n",
              "</table>\n",
              "<p>5 rows × 21 columns</p>\n",
              "</div>\n",
              "      <button class=\"colab-df-convert\" onclick=\"convertToInteractive('df-0a09c1b9-b1ae-406e-9e7a-156a126ced0d')\"\n",
              "              title=\"Convert this dataframe to an interactive table.\"\n",
              "              style=\"display:none;\">\n",
              "        \n",
              "  <svg xmlns=\"http://www.w3.org/2000/svg\" height=\"24px\"viewBox=\"0 0 24 24\"\n",
              "       width=\"24px\">\n",
              "    <path d=\"M0 0h24v24H0V0z\" fill=\"none\"/>\n",
              "    <path d=\"M18.56 5.44l.94 2.06.94-2.06 2.06-.94-2.06-.94-.94-2.06-.94 2.06-2.06.94zm-11 1L8.5 8.5l.94-2.06 2.06-.94-2.06-.94L8.5 2.5l-.94 2.06-2.06.94zm10 10l.94 2.06.94-2.06 2.06-.94-2.06-.94-.94-2.06-.94 2.06-2.06.94z\"/><path d=\"M17.41 7.96l-1.37-1.37c-.4-.4-.92-.59-1.43-.59-.52 0-1.04.2-1.43.59L10.3 9.45l-7.72 7.72c-.78.78-.78 2.05 0 2.83L4 21.41c.39.39.9.59 1.41.59.51 0 1.02-.2 1.41-.59l7.78-7.78 2.81-2.81c.8-.78.8-2.07 0-2.86zM5.41 20L4 18.59l7.72-7.72 1.47 1.35L5.41 20z\"/>\n",
              "  </svg>\n",
              "      </button>\n",
              "      \n",
              "  <style>\n",
              "    .colab-df-container {\n",
              "      display:flex;\n",
              "      flex-wrap:wrap;\n",
              "      gap: 12px;\n",
              "    }\n",
              "\n",
              "    .colab-df-convert {\n",
              "      background-color: #E8F0FE;\n",
              "      border: none;\n",
              "      border-radius: 50%;\n",
              "      cursor: pointer;\n",
              "      display: none;\n",
              "      fill: #1967D2;\n",
              "      height: 32px;\n",
              "      padding: 0 0 0 0;\n",
              "      width: 32px;\n",
              "    }\n",
              "\n",
              "    .colab-df-convert:hover {\n",
              "      background-color: #E2EBFA;\n",
              "      box-shadow: 0px 1px 2px rgba(60, 64, 67, 0.3), 0px 1px 3px 1px rgba(60, 64, 67, 0.15);\n",
              "      fill: #174EA6;\n",
              "    }\n",
              "\n",
              "    [theme=dark] .colab-df-convert {\n",
              "      background-color: #3B4455;\n",
              "      fill: #D2E3FC;\n",
              "    }\n",
              "\n",
              "    [theme=dark] .colab-df-convert:hover {\n",
              "      background-color: #434B5C;\n",
              "      box-shadow: 0px 1px 3px 1px rgba(0, 0, 0, 0.15);\n",
              "      filter: drop-shadow(0px 1px 2px rgba(0, 0, 0, 0.3));\n",
              "      fill: #FFFFFF;\n",
              "    }\n",
              "  </style>\n",
              "\n",
              "      <script>\n",
              "        const buttonEl =\n",
              "          document.querySelector('#df-0a09c1b9-b1ae-406e-9e7a-156a126ced0d button.colab-df-convert');\n",
              "        buttonEl.style.display =\n",
              "          google.colab.kernel.accessAllowed ? 'block' : 'none';\n",
              "\n",
              "        async function convertToInteractive(key) {\n",
              "          const element = document.querySelector('#df-0a09c1b9-b1ae-406e-9e7a-156a126ced0d');\n",
              "          const dataTable =\n",
              "            await google.colab.kernel.invokeFunction('convertToInteractive',\n",
              "                                                     [key], {});\n",
              "          if (!dataTable) return;\n",
              "\n",
              "          const docLinkHtml = 'Like what you see? Visit the ' +\n",
              "            '<a target=\"_blank\" href=https://colab.research.google.com/notebooks/data_table.ipynb>data table notebook</a>'\n",
              "            + ' to learn more about interactive tables.';\n",
              "          element.innerHTML = '';\n",
              "          dataTable['output_type'] = 'display_data';\n",
              "          await google.colab.output.renderOutput(dataTable, element);\n",
              "          const docLink = document.createElement('div');\n",
              "          docLink.innerHTML = docLinkHtml;\n",
              "          element.appendChild(docLink);\n",
              "        }\n",
              "      </script>\n",
              "    </div>\n",
              "  </div>\n",
              "  "
            ]
          },
          "metadata": {},
          "execution_count": 12
        }
      ]
    },
    {
      "cell_type": "markdown",
      "source": [
        "#**Ejercicio-2.**"
      ],
      "metadata": {
        "id": "xZhr2hkECzVv"
      }
    },
    {
      "cell_type": "markdown",
      "source": [
        "2. Realiza una partición de los datos en el conjunto de entrenamiento del 85% y el de prueba de\n",
        "15%. Los modelos se estarán entrenando con el método de validación cruzada, así que no es\n",
        "necesario en este paso generar el conjunto de validación. Define como la variable X a todas las\n",
        "variables de entrada y a la variable Y como la variable de salida."
      ],
      "metadata": {
        "id": "KM1XIoBT--uF"
      }
    },
    {
      "cell_type": "code",
      "source": [
        "# creacion de los conjunto de datos entrenamiento y pruba\n",
        "\n",
        "# Valores en X\n",
        "X = df.iloc[:,0:20]\n",
        "# Valores en Y valor objetivo\n",
        "y = df.iloc[:, -1]\n",
        "\n",
        "# Datos de validación, función trains_test_split\n",
        "X_train, X_val, y_train, y_val = train_test_split(X, y, train_size=0.85, random_state=10)"
      ],
      "metadata": {
        "id": "kGfAoOPkC1PP"
      },
      "execution_count": 13,
      "outputs": []
    },
    {
      "cell_type": "code",
      "source": [
        "# Valores X\n",
        "X_train.head()\n"
      ],
      "metadata": {
        "id": "GOydw5OGC1MJ",
        "colab": {
          "base_uri": "https://localhost:8080/",
          "height": 270
        },
        "outputId": "7e9e6afe-d46e-4a50-82b4-079d9300fdeb"
      },
      "execution_count": 14,
      "outputs": [
        {
          "output_type": "execute_result",
          "data": {
            "text/plain": [
              "     status  duration  credit_history  purpose  amount  savings  \\\n",
              "548       2        12               2        0    1007        4   \n",
              "335       1        24               2        2    1747        1   \n",
              "793       1        12               2        6     795        1   \n",
              "848       2        36               2        3    2671        2   \n",
              "295       4        36               2        1    8133        1   \n",
              "\n",
              "     employment_duration  installment_rate  personal_status_sex  \\\n",
              "548                    3                 4                    4   \n",
              "335                    2                 4                    3   \n",
              "793                    2                 4                    2   \n",
              "848                    3                 4                    2   \n",
              "295                    3                 1                    2   \n",
              "\n",
              "     other_debtors  present_residence  property  age  other_installment_plans  \\\n",
              "548              1                  1         1   22                        3   \n",
              "335              2                  1         2   24                        3   \n",
              "793              1                  4         2   53                        3   \n",
              "848              2                  4         4   50                        3   \n",
              "295              1                  2         2   30                        1   \n",
              "\n",
              "     housing  number_credits  job  people_liable  telephone  foreign_worker  \n",
              "548        2               1    3              2          1               2  \n",
              "335        2               1    2              2          1               1  \n",
              "793        2               1    3              2          1               2  \n",
              "848        3               1    3              2          1               2  \n",
              "295        2               1    3              2          1               2  "
            ],
            "text/html": [
              "\n",
              "  <div id=\"df-c3b56932-1620-4a3a-834a-614102b3b1a7\">\n",
              "    <div class=\"colab-df-container\">\n",
              "      <div>\n",
              "<style scoped>\n",
              "    .dataframe tbody tr th:only-of-type {\n",
              "        vertical-align: middle;\n",
              "    }\n",
              "\n",
              "    .dataframe tbody tr th {\n",
              "        vertical-align: top;\n",
              "    }\n",
              "\n",
              "    .dataframe thead th {\n",
              "        text-align: right;\n",
              "    }\n",
              "</style>\n",
              "<table border=\"1\" class=\"dataframe\">\n",
              "  <thead>\n",
              "    <tr style=\"text-align: right;\">\n",
              "      <th></th>\n",
              "      <th>status</th>\n",
              "      <th>duration</th>\n",
              "      <th>credit_history</th>\n",
              "      <th>purpose</th>\n",
              "      <th>amount</th>\n",
              "      <th>savings</th>\n",
              "      <th>employment_duration</th>\n",
              "      <th>installment_rate</th>\n",
              "      <th>personal_status_sex</th>\n",
              "      <th>other_debtors</th>\n",
              "      <th>present_residence</th>\n",
              "      <th>property</th>\n",
              "      <th>age</th>\n",
              "      <th>other_installment_plans</th>\n",
              "      <th>housing</th>\n",
              "      <th>number_credits</th>\n",
              "      <th>job</th>\n",
              "      <th>people_liable</th>\n",
              "      <th>telephone</th>\n",
              "      <th>foreign_worker</th>\n",
              "    </tr>\n",
              "  </thead>\n",
              "  <tbody>\n",
              "    <tr>\n",
              "      <th>548</th>\n",
              "      <td>2</td>\n",
              "      <td>12</td>\n",
              "      <td>2</td>\n",
              "      <td>0</td>\n",
              "      <td>1007</td>\n",
              "      <td>4</td>\n",
              "      <td>3</td>\n",
              "      <td>4</td>\n",
              "      <td>4</td>\n",
              "      <td>1</td>\n",
              "      <td>1</td>\n",
              "      <td>1</td>\n",
              "      <td>22</td>\n",
              "      <td>3</td>\n",
              "      <td>2</td>\n",
              "      <td>1</td>\n",
              "      <td>3</td>\n",
              "      <td>2</td>\n",
              "      <td>1</td>\n",
              "      <td>2</td>\n",
              "    </tr>\n",
              "    <tr>\n",
              "      <th>335</th>\n",
              "      <td>1</td>\n",
              "      <td>24</td>\n",
              "      <td>2</td>\n",
              "      <td>2</td>\n",
              "      <td>1747</td>\n",
              "      <td>1</td>\n",
              "      <td>2</td>\n",
              "      <td>4</td>\n",
              "      <td>3</td>\n",
              "      <td>2</td>\n",
              "      <td>1</td>\n",
              "      <td>2</td>\n",
              "      <td>24</td>\n",
              "      <td>3</td>\n",
              "      <td>2</td>\n",
              "      <td>1</td>\n",
              "      <td>2</td>\n",
              "      <td>2</td>\n",
              "      <td>1</td>\n",
              "      <td>1</td>\n",
              "    </tr>\n",
              "    <tr>\n",
              "      <th>793</th>\n",
              "      <td>1</td>\n",
              "      <td>12</td>\n",
              "      <td>2</td>\n",
              "      <td>6</td>\n",
              "      <td>795</td>\n",
              "      <td>1</td>\n",
              "      <td>2</td>\n",
              "      <td>4</td>\n",
              "      <td>2</td>\n",
              "      <td>1</td>\n",
              "      <td>4</td>\n",
              "      <td>2</td>\n",
              "      <td>53</td>\n",
              "      <td>3</td>\n",
              "      <td>2</td>\n",
              "      <td>1</td>\n",
              "      <td>3</td>\n",
              "      <td>2</td>\n",
              "      <td>1</td>\n",
              "      <td>2</td>\n",
              "    </tr>\n",
              "    <tr>\n",
              "      <th>848</th>\n",
              "      <td>2</td>\n",
              "      <td>36</td>\n",
              "      <td>2</td>\n",
              "      <td>3</td>\n",
              "      <td>2671</td>\n",
              "      <td>2</td>\n",
              "      <td>3</td>\n",
              "      <td>4</td>\n",
              "      <td>2</td>\n",
              "      <td>2</td>\n",
              "      <td>4</td>\n",
              "      <td>4</td>\n",
              "      <td>50</td>\n",
              "      <td>3</td>\n",
              "      <td>3</td>\n",
              "      <td>1</td>\n",
              "      <td>3</td>\n",
              "      <td>2</td>\n",
              "      <td>1</td>\n",
              "      <td>2</td>\n",
              "    </tr>\n",
              "    <tr>\n",
              "      <th>295</th>\n",
              "      <td>4</td>\n",
              "      <td>36</td>\n",
              "      <td>2</td>\n",
              "      <td>1</td>\n",
              "      <td>8133</td>\n",
              "      <td>1</td>\n",
              "      <td>3</td>\n",
              "      <td>1</td>\n",
              "      <td>2</td>\n",
              "      <td>1</td>\n",
              "      <td>2</td>\n",
              "      <td>2</td>\n",
              "      <td>30</td>\n",
              "      <td>1</td>\n",
              "      <td>2</td>\n",
              "      <td>1</td>\n",
              "      <td>3</td>\n",
              "      <td>2</td>\n",
              "      <td>1</td>\n",
              "      <td>2</td>\n",
              "    </tr>\n",
              "  </tbody>\n",
              "</table>\n",
              "</div>\n",
              "      <button class=\"colab-df-convert\" onclick=\"convertToInteractive('df-c3b56932-1620-4a3a-834a-614102b3b1a7')\"\n",
              "              title=\"Convert this dataframe to an interactive table.\"\n",
              "              style=\"display:none;\">\n",
              "        \n",
              "  <svg xmlns=\"http://www.w3.org/2000/svg\" height=\"24px\"viewBox=\"0 0 24 24\"\n",
              "       width=\"24px\">\n",
              "    <path d=\"M0 0h24v24H0V0z\" fill=\"none\"/>\n",
              "    <path d=\"M18.56 5.44l.94 2.06.94-2.06 2.06-.94-2.06-.94-.94-2.06-.94 2.06-2.06.94zm-11 1L8.5 8.5l.94-2.06 2.06-.94-2.06-.94L8.5 2.5l-.94 2.06-2.06.94zm10 10l.94 2.06.94-2.06 2.06-.94-2.06-.94-.94-2.06-.94 2.06-2.06.94z\"/><path d=\"M17.41 7.96l-1.37-1.37c-.4-.4-.92-.59-1.43-.59-.52 0-1.04.2-1.43.59L10.3 9.45l-7.72 7.72c-.78.78-.78 2.05 0 2.83L4 21.41c.39.39.9.59 1.41.59.51 0 1.02-.2 1.41-.59l7.78-7.78 2.81-2.81c.8-.78.8-2.07 0-2.86zM5.41 20L4 18.59l7.72-7.72 1.47 1.35L5.41 20z\"/>\n",
              "  </svg>\n",
              "      </button>\n",
              "      \n",
              "  <style>\n",
              "    .colab-df-container {\n",
              "      display:flex;\n",
              "      flex-wrap:wrap;\n",
              "      gap: 12px;\n",
              "    }\n",
              "\n",
              "    .colab-df-convert {\n",
              "      background-color: #E8F0FE;\n",
              "      border: none;\n",
              "      border-radius: 50%;\n",
              "      cursor: pointer;\n",
              "      display: none;\n",
              "      fill: #1967D2;\n",
              "      height: 32px;\n",
              "      padding: 0 0 0 0;\n",
              "      width: 32px;\n",
              "    }\n",
              "\n",
              "    .colab-df-convert:hover {\n",
              "      background-color: #E2EBFA;\n",
              "      box-shadow: 0px 1px 2px rgba(60, 64, 67, 0.3), 0px 1px 3px 1px rgba(60, 64, 67, 0.15);\n",
              "      fill: #174EA6;\n",
              "    }\n",
              "\n",
              "    [theme=dark] .colab-df-convert {\n",
              "      background-color: #3B4455;\n",
              "      fill: #D2E3FC;\n",
              "    }\n",
              "\n",
              "    [theme=dark] .colab-df-convert:hover {\n",
              "      background-color: #434B5C;\n",
              "      box-shadow: 0px 1px 3px 1px rgba(0, 0, 0, 0.15);\n",
              "      filter: drop-shadow(0px 1px 2px rgba(0, 0, 0, 0.3));\n",
              "      fill: #FFFFFF;\n",
              "    }\n",
              "  </style>\n",
              "\n",
              "      <script>\n",
              "        const buttonEl =\n",
              "          document.querySelector('#df-c3b56932-1620-4a3a-834a-614102b3b1a7 button.colab-df-convert');\n",
              "        buttonEl.style.display =\n",
              "          google.colab.kernel.accessAllowed ? 'block' : 'none';\n",
              "\n",
              "        async function convertToInteractive(key) {\n",
              "          const element = document.querySelector('#df-c3b56932-1620-4a3a-834a-614102b3b1a7');\n",
              "          const dataTable =\n",
              "            await google.colab.kernel.invokeFunction('convertToInteractive',\n",
              "                                                     [key], {});\n",
              "          if (!dataTable) return;\n",
              "\n",
              "          const docLinkHtml = 'Like what you see? Visit the ' +\n",
              "            '<a target=\"_blank\" href=https://colab.research.google.com/notebooks/data_table.ipynb>data table notebook</a>'\n",
              "            + ' to learn more about interactive tables.';\n",
              "          element.innerHTML = '';\n",
              "          dataTable['output_type'] = 'display_data';\n",
              "          await google.colab.output.renderOutput(dataTable, element);\n",
              "          const docLink = document.createElement('div');\n",
              "          docLink.innerHTML = docLinkHtml;\n",
              "          element.appendChild(docLink);\n",
              "        }\n",
              "      </script>\n",
              "    </div>\n",
              "  </div>\n",
              "  "
            ]
          },
          "metadata": {},
          "execution_count": 14
        }
      ]
    },
    {
      "cell_type": "code",
      "source": [
        "# Valores y\n",
        "y_train.head()"
      ],
      "metadata": {
        "colab": {
          "base_uri": "https://localhost:8080/"
        },
        "id": "mfbu_c9GCgNh",
        "outputId": "b59d6557-24f2-4b85-e1cb-b480fd320cf5"
      },
      "execution_count": 15,
      "outputs": [
        {
          "output_type": "execute_result",
          "data": {
            "text/plain": [
              "548    1\n",
              "335    1\n",
              "793    0\n",
              "848    0\n",
              "295    1\n",
              "Name: credit_risk, dtype: int64"
            ]
          },
          "metadata": {},
          "execution_count": 15
        }
      ]
    },
    {
      "cell_type": "code",
      "source": [
        "# verificacion del dataframe\n",
        "df.columns"
      ],
      "metadata": {
        "colab": {
          "base_uri": "https://localhost:8080/"
        },
        "id": "tSckAmCZCsWV",
        "outputId": "b5d97c32-247d-403a-83b5-ba777cf37c48"
      },
      "execution_count": 16,
      "outputs": [
        {
          "output_type": "execute_result",
          "data": {
            "text/plain": [
              "Index(['status', 'duration', 'credit_history', 'purpose', 'amount', 'savings',\n",
              "       'employment_duration', 'installment_rate', 'personal_status_sex',\n",
              "       'other_debtors', 'present_residence', 'property', 'age',\n",
              "       'other_installment_plans', 'housing', 'number_credits', 'job',\n",
              "       'people_liable', 'telephone', 'foreign_worker', 'credit_risk'],\n",
              "      dtype='object')"
            ]
          },
          "metadata": {},
          "execution_count": 16
        }
      ]
    },
    {
      "cell_type": "markdown",
      "source": [
        "#**Ejercicio-3.**"
      ],
      "metadata": {
        "id": "NCunuooTC2W3"
      }
    },
    {
      "cell_type": "markdown",
      "source": [
        "Como una primera aproximación (baseline) realizarás las siguientes transformaciones mínimas\n",
        "para generar los primeros modelos. En la misma página de la UCI se indica el tipo de variable de\n",
        "cada uno de los factores. Definen cuatro tipo de variables: categórica (categorical), ordinal\n",
        "(discretized quantitative), numérica (quantitative) y binaria (binary). Con base a dicha\n",
        "información realiza un Pipeline que incluya al menos las siguientes transformaciones:\n",
        "* Imputación a todas las variables de entrada, diferenciando entre el tipo de cada variable\n",
        "(decide y justifica que tipo de imputación realizas en cada caso).\n",
        "*  Realiza un análisis de las variables numéricas (quantitative) de entrada y aplica una\n",
        "transformación que escale a todas ellas en un rango equiparable.\n",
        "* Aplica la transformación One-Hot encoding a las variables de entrada de tipo categórico y\n",
        "binaria. En particular, justifica por qué una variable binaria requeriría que se le aplique la\n",
        "transformación one-hot encoding. Por el momento dejar las variables ordinales sin\n",
        "transformar."
      ],
      "metadata": {
        "id": "xw3W84u5DdXX"
      }
    },
    {
      "cell_type": "code",
      "source": [
        "# categorización de variables\n",
        "categorical = ['status','credit_history','purpose','savings','personal_status_sex','other_debtors','property','other_installment_plans','housing']\n",
        "discretized_numerical = ['employment_duration', 'installment_rate','present_residence','number_credits','job']\n",
        "binary = ['people_liable','telephone','foreign_worker']\n",
        "numeric = ['duration','amount','age']\n",
        "\n",
        "\n",
        "# status -- >  discretized_numerical\n",
        "# savings --> discretized_numerical\n",
        "\n",
        "\n",
        "# personal_status_sex` --> transform ?\n"
      ],
      "metadata": {
        "id": "cKwxtjc4KqTG"
      },
      "execution_count": 17,
      "outputs": []
    },
    {
      "cell_type": "markdown",
      "source": [
        "Análisis de valores numéricos"
      ],
      "metadata": {
        "id": "2LcXY0OVCu0b"
      }
    },
    {
      "cell_type": "code",
      "source": [
        "df[numeric].describe()"
      ],
      "metadata": {
        "colab": {
          "base_uri": "https://localhost:8080/",
          "height": 300
        },
        "id": "pSLKpTlkCx08",
        "outputId": "762b1895-c681-4dcf-f7ed-8ca177e7b3e5"
      },
      "execution_count": 18,
      "outputs": [
        {
          "output_type": "execute_result",
          "data": {
            "text/plain": [
              "          duration       amount         age\n",
              "count  1000.000000   1000.00000  1000.00000\n",
              "mean     20.903000   3271.24800    35.54200\n",
              "std      12.058814   2822.75176    11.35267\n",
              "min       4.000000    250.00000    19.00000\n",
              "25%      12.000000   1365.50000    27.00000\n",
              "50%      18.000000   2319.50000    33.00000\n",
              "75%      24.000000   3972.25000    42.00000\n",
              "max      72.000000  18424.00000    75.00000"
            ],
            "text/html": [
              "\n",
              "  <div id=\"df-d7a2cb49-83e8-4fac-b914-54090ea9df87\">\n",
              "    <div class=\"colab-df-container\">\n",
              "      <div>\n",
              "<style scoped>\n",
              "    .dataframe tbody tr th:only-of-type {\n",
              "        vertical-align: middle;\n",
              "    }\n",
              "\n",
              "    .dataframe tbody tr th {\n",
              "        vertical-align: top;\n",
              "    }\n",
              "\n",
              "    .dataframe thead th {\n",
              "        text-align: right;\n",
              "    }\n",
              "</style>\n",
              "<table border=\"1\" class=\"dataframe\">\n",
              "  <thead>\n",
              "    <tr style=\"text-align: right;\">\n",
              "      <th></th>\n",
              "      <th>duration</th>\n",
              "      <th>amount</th>\n",
              "      <th>age</th>\n",
              "    </tr>\n",
              "  </thead>\n",
              "  <tbody>\n",
              "    <tr>\n",
              "      <th>count</th>\n",
              "      <td>1000.000000</td>\n",
              "      <td>1000.00000</td>\n",
              "      <td>1000.00000</td>\n",
              "    </tr>\n",
              "    <tr>\n",
              "      <th>mean</th>\n",
              "      <td>20.903000</td>\n",
              "      <td>3271.24800</td>\n",
              "      <td>35.54200</td>\n",
              "    </tr>\n",
              "    <tr>\n",
              "      <th>std</th>\n",
              "      <td>12.058814</td>\n",
              "      <td>2822.75176</td>\n",
              "      <td>11.35267</td>\n",
              "    </tr>\n",
              "    <tr>\n",
              "      <th>min</th>\n",
              "      <td>4.000000</td>\n",
              "      <td>250.00000</td>\n",
              "      <td>19.00000</td>\n",
              "    </tr>\n",
              "    <tr>\n",
              "      <th>25%</th>\n",
              "      <td>12.000000</td>\n",
              "      <td>1365.50000</td>\n",
              "      <td>27.00000</td>\n",
              "    </tr>\n",
              "    <tr>\n",
              "      <th>50%</th>\n",
              "      <td>18.000000</td>\n",
              "      <td>2319.50000</td>\n",
              "      <td>33.00000</td>\n",
              "    </tr>\n",
              "    <tr>\n",
              "      <th>75%</th>\n",
              "      <td>24.000000</td>\n",
              "      <td>3972.25000</td>\n",
              "      <td>42.00000</td>\n",
              "    </tr>\n",
              "    <tr>\n",
              "      <th>max</th>\n",
              "      <td>72.000000</td>\n",
              "      <td>18424.00000</td>\n",
              "      <td>75.00000</td>\n",
              "    </tr>\n",
              "  </tbody>\n",
              "</table>\n",
              "</div>\n",
              "      <button class=\"colab-df-convert\" onclick=\"convertToInteractive('df-d7a2cb49-83e8-4fac-b914-54090ea9df87')\"\n",
              "              title=\"Convert this dataframe to an interactive table.\"\n",
              "              style=\"display:none;\">\n",
              "        \n",
              "  <svg xmlns=\"http://www.w3.org/2000/svg\" height=\"24px\"viewBox=\"0 0 24 24\"\n",
              "       width=\"24px\">\n",
              "    <path d=\"M0 0h24v24H0V0z\" fill=\"none\"/>\n",
              "    <path d=\"M18.56 5.44l.94 2.06.94-2.06 2.06-.94-2.06-.94-.94-2.06-.94 2.06-2.06.94zm-11 1L8.5 8.5l.94-2.06 2.06-.94-2.06-.94L8.5 2.5l-.94 2.06-2.06.94zm10 10l.94 2.06.94-2.06 2.06-.94-2.06-.94-.94-2.06-.94 2.06-2.06.94z\"/><path d=\"M17.41 7.96l-1.37-1.37c-.4-.4-.92-.59-1.43-.59-.52 0-1.04.2-1.43.59L10.3 9.45l-7.72 7.72c-.78.78-.78 2.05 0 2.83L4 21.41c.39.39.9.59 1.41.59.51 0 1.02-.2 1.41-.59l7.78-7.78 2.81-2.81c.8-.78.8-2.07 0-2.86zM5.41 20L4 18.59l7.72-7.72 1.47 1.35L5.41 20z\"/>\n",
              "  </svg>\n",
              "      </button>\n",
              "      \n",
              "  <style>\n",
              "    .colab-df-container {\n",
              "      display:flex;\n",
              "      flex-wrap:wrap;\n",
              "      gap: 12px;\n",
              "    }\n",
              "\n",
              "    .colab-df-convert {\n",
              "      background-color: #E8F0FE;\n",
              "      border: none;\n",
              "      border-radius: 50%;\n",
              "      cursor: pointer;\n",
              "      display: none;\n",
              "      fill: #1967D2;\n",
              "      height: 32px;\n",
              "      padding: 0 0 0 0;\n",
              "      width: 32px;\n",
              "    }\n",
              "\n",
              "    .colab-df-convert:hover {\n",
              "      background-color: #E2EBFA;\n",
              "      box-shadow: 0px 1px 2px rgba(60, 64, 67, 0.3), 0px 1px 3px 1px rgba(60, 64, 67, 0.15);\n",
              "      fill: #174EA6;\n",
              "    }\n",
              "\n",
              "    [theme=dark] .colab-df-convert {\n",
              "      background-color: #3B4455;\n",
              "      fill: #D2E3FC;\n",
              "    }\n",
              "\n",
              "    [theme=dark] .colab-df-convert:hover {\n",
              "      background-color: #434B5C;\n",
              "      box-shadow: 0px 1px 3px 1px rgba(0, 0, 0, 0.15);\n",
              "      filter: drop-shadow(0px 1px 2px rgba(0, 0, 0, 0.3));\n",
              "      fill: #FFFFFF;\n",
              "    }\n",
              "  </style>\n",
              "\n",
              "      <script>\n",
              "        const buttonEl =\n",
              "          document.querySelector('#df-d7a2cb49-83e8-4fac-b914-54090ea9df87 button.colab-df-convert');\n",
              "        buttonEl.style.display =\n",
              "          google.colab.kernel.accessAllowed ? 'block' : 'none';\n",
              "\n",
              "        async function convertToInteractive(key) {\n",
              "          const element = document.querySelector('#df-d7a2cb49-83e8-4fac-b914-54090ea9df87');\n",
              "          const dataTable =\n",
              "            await google.colab.kernel.invokeFunction('convertToInteractive',\n",
              "                                                     [key], {});\n",
              "          if (!dataTable) return;\n",
              "\n",
              "          const docLinkHtml = 'Like what you see? Visit the ' +\n",
              "            '<a target=\"_blank\" href=https://colab.research.google.com/notebooks/data_table.ipynb>data table notebook</a>'\n",
              "            + ' to learn more about interactive tables.';\n",
              "          element.innerHTML = '';\n",
              "          dataTable['output_type'] = 'display_data';\n",
              "          await google.colab.output.renderOutput(dataTable, element);\n",
              "          const docLink = document.createElement('div');\n",
              "          docLink.innerHTML = docLinkHtml;\n",
              "          element.appendChild(docLink);\n",
              "        }\n",
              "      </script>\n",
              "    </div>\n",
              "  </div>\n",
              "  "
            ]
          },
          "metadata": {},
          "execution_count": 18
        }
      ]
    },
    {
      "cell_type": "markdown",
      "source": [
        "Podemos observar una diferencia muy grande entre los rangos de los distintos campos numéicos, por lo tanto, para evitar una influencia desigual de los coasionada por la diferentes unidades de medida de cada uno, es necesario escalar dichos atributos."
      ],
      "metadata": {
        "id": "w2OhXcESDEf3"
      }
    },
    {
      "cell_type": "code",
      "source": [
        "# Transformaciones a factores numéricos de entrada:\n",
        "num_pipeline = Pipeline(steps = [('impMediana', SimpleImputer(strategy='median')),\n",
        "                                 ('escalaNum', MinMaxScaler(feature_range=(1,2)))])   \n",
        "num_pipeline_nombres = numeric\n",
        "\n",
        "# Transformaciones a factores categóricos de entrada:\n",
        "catImp_pipeline = Pipeline(steps = [('impModa', SimpleImputer(strategy='most_frequent'))])  \n",
        "catImp_pipeline_nombres = categorical + discretized_numerical + binary\n",
        "\n",
        "catOHE_pipeline = Pipeline(steps = [('OneHotE', OneHotEncoder(drop='first'))])\n",
        "catOHE_pipeline_nombres = categorical + binary\n",
        "\n",
        "\n",
        "# Conjuntamos las transformaciones numéricas y categóricas que se estarán aplicando a los datos de entrada:\n",
        "columnasTransformer = ColumnTransformer(transformers = [('numpipe', num_pipeline, num_pipeline_nombres),\n",
        "                                                        ('catimp', catImp_pipeline, catImp_pipeline_nombres),\n",
        "                                                        ('catohe', catOHE_pipeline, catOHE_pipeline_nombres)],\n",
        "                                                        remainder='passthrough')"
      ],
      "metadata": {
        "id": "YXlcSWA-C4Dj"
      },
      "execution_count": 19,
      "outputs": []
    },
    {
      "cell_type": "markdown",
      "source": [
        "Justificación:\n",
        "+ Se realiza una imputación de la media de cada columna que contiene valores numéricos ya que así se evita que se genere un sesgo en la distribución original de los datos.\n",
        "+ Se realiza una imputación de la media de cada columna que contiene valores categóricos y binarios ya que es el valor que afectaría menos la distribución de los datos sin generar sesgos notables en valores que no son inherentemente numéricos.\n",
        "+ Se realiza OneHotENcoding con el fin de evitar una jerarquización de los valores binarios, es decir, con el fin de evitar que una clase tenga mayor valor (influencia) sobre la otra por la magnitud del valor numérico asignado."
      ],
      "metadata": {
        "id": "ZUmkemrnoNdq"
      }
    },
    {
      "cell_type": "markdown",
      "source": [
        "#**Ejercicio-4.**"
      ],
      "metadata": {
        "id": "chqk9jIDC5Pq"
      }
    },
    {
      "cell_type": "markdown",
      "source": [
        "## Funciones de score"
      ],
      "metadata": {
        "id": "Dx7MqrK8q4sv"
      }
    },
    {
      "cell_type": "code",
      "source": [
        "def mi_accuracy(y_real,y_pred):\n",
        "  cm = confusion_matrix(y_real,y_pred)\n",
        "  a = (cm[0,0]+cm[1,1])/(cm.sum())\n",
        "  return a"
      ],
      "metadata": {
        "id": "92diWzNKq6iL"
      },
      "execution_count": 20,
      "outputs": []
    },
    {
      "cell_type": "code",
      "source": [
        "def mi_precision(y_real,y_pred):\n",
        "  cm = confusion_matrix(y_real,y_pred)\n",
        "  p = cm[1,1]/(cm[1,1]+cm[0,1])\n",
        "  return p"
      ],
      "metadata": {
        "id": "johuKUT3wSX5"
      },
      "execution_count": 21,
      "outputs": []
    },
    {
      "cell_type": "code",
      "source": [
        "def mi_recall(y_real,y_pred):\n",
        "  cm = confusion_matrix(y_real,y_pred)\n",
        "  r = cm[1,1]/(cm[1,1]+cm[1,0])\n",
        "  return r"
      ],
      "metadata": {
        "id": "EOUlZDfuq6xd"
      },
      "execution_count": 22,
      "outputs": []
    },
    {
      "cell_type": "code",
      "source": [
        "def mi_f1_score(y_real,y_pred):\n",
        "  cm = confusion_matrix(y_real,y_pred)\n",
        "  f1 = 2*cm[1,1]/(2*cm[1,1]+cm[0,1]+cm[1,0])\n",
        "  return f1"
      ],
      "metadata": {
        "id": "GDk_1Hg8q7Jm"
      },
      "execution_count": 23,
      "outputs": []
    },
    {
      "cell_type": "code",
      "source": [
        "def mi_gmean(y_real,y_pred):\n",
        "  cm = confusion_matrix(y_real,y_pred)\n",
        "  r = cm[1,1]/(cm[1,1]+cm[1,0])\n",
        "  e = cm[0,0]/(cm[0,0]+cm[0,1])\n",
        "  g = (r*e)**(1/2)\n",
        "  return g"
      ],
      "metadata": {
        "id": "17yeYW_sq7Zv"
      },
      "execution_count": 24,
      "outputs": []
    },
    {
      "cell_type": "markdown",
      "source": [
        "## Lista de modelos"
      ],
      "metadata": {
        "id": "xBNEbkwR3dPN"
      }
    },
    {
      "cell_type": "code",
      "source": [
        "def get_models():\n",
        "  modelos = list()\n",
        "  nombres = list()\n",
        "\n",
        "  # LR - Regresión Logística:\n",
        "  modelos.append(LogisticRegression())\n",
        "  nombres.append('Regresión Logística')\n",
        "\n",
        "  # DT - Árbol de Decisión:\n",
        "  modelos.append(DecisionTreeClassifier())\n",
        "  nombres.append('Árbol de Decisión')\n",
        "  \n",
        "  # RF - Árbol de Decisión:\n",
        "  modelos.append(RandomForestClassifier())\n",
        "  nombres.append('Bosque Aleatorio')\n",
        "\n",
        "  return modelos, nombres"
      ],
      "metadata": {
        "id": "0ldklrjE3fNu"
      },
      "execution_count": 25,
      "outputs": []
    },
    {
      "cell_type": "markdown",
      "source": [
        "## Validación cruzada (parámetros estándar)"
      ],
      "metadata": {
        "id": "02o4GL4qzhQ5"
      }
    },
    {
      "cell_type": "code",
      "source": [
        "# Parámetros\n",
        "modelos, nombres = get_models()  # cargamos los modelos a comparar\n",
        "resultados = list()   \n",
        "\n",
        "for i in range(len(modelos)):\n",
        "  pipeline = Pipeline(steps=[('ct',columnasTransformer),('m',modelos[i])])\n",
        "  mi_kfold = RepeatedStratifiedKFold(n_splits = 5, n_repeats = 3, random_state= 7)\n",
        "  mismetricas = {'accuracy':make_scorer(mi_accuracy),\n",
        "                 'precision':make_scorer(mi_precision),\n",
        "                 'recall':make_scorer(mi_recall),\n",
        "                 'f1_score':make_scorer(mi_f1_score),\n",
        "                 'gmean':make_scorer(mi_gmean)\n",
        "                 }\n",
        "  resultados_temp = cross_validate(pipeline, X_train,np.ravel(y_train), scoring = mismetricas, cv = mi_kfold, return_train_score = True)\n",
        "  resultados.append(resultados_temp)\n",
        "  \n",
        "  print(str(nombres[i].upper())+'\\n')\n",
        "\n",
        "  # Imprimir resumen de validación cruizada para datos de entrenamiento\n",
        "  print('Métricas de entrenamiento \\n Accuracy promedio: %.3f (%.4f)\\n Precisión promedio: %.3f (%.4f)\\n Recall promedio: %.3f (%.4f)\\n F1-score promedio: %.3f (%.4f) \\n Gmean promedio: %.3f (%.4f)\\n' % (\n",
        "                                                                                                                    np.mean(resultados_temp['train_accuracy']),\n",
        "                                                                                                                    np.std(resultados_temp['train_accuracy']),\n",
        "                                                                                                                    np.mean(resultados_temp['train_precision']),\n",
        "                                                                                                                    np.std(resultados_temp['train_precision']), \n",
        "                                                                                                                    np.mean(resultados_temp['train_recall']),\n",
        "                                                                                                                    np.std(resultados_temp['train_recall']),\n",
        "                                                                                                                    np.mean(resultados_temp['train_f1_score']),\n",
        "                                                                                                                    np.std(resultados_temp['train_f1_score']),\n",
        "                                                                                                                    np.mean(resultados_temp['train_gmean']),\n",
        "                                                                                                                    np.std(resultados_temp['train_gmean']),  \n",
        "                                                                                                                    ))\n",
        "\n",
        "  # Imprimir resumen de validación cruizada para datos de validación\n",
        "  print('Métricas de validación\\n Accuracy promedio: %.3f (%.4f)\\n Precisión promedio: %.3f (%.4f)\\n Recall promedio: %.3f (%.4f)\\n F1-score promedio: %.3f (%.4f) \\n Gmean promedio: %.3f (%.4f)\\n ------------------- \\n' % (\n",
        "                                                                                                                    np.mean(resultados_temp['test_accuracy']),\n",
        "                                                                                                                    np.std(resultados_temp['test_accuracy']),\n",
        "                                                                                                                    np.mean(resultados_temp['test_precision']),\n",
        "                                                                                                                    np.std(resultados_temp['test_precision']), \n",
        "                                                                                                                    np.mean(resultados_temp['test_recall']),\n",
        "                                                                                                                    np.std(resultados_temp['test_recall']),\n",
        "                                                                                                                    np.mean(resultados_temp['test_f1_score']),\n",
        "                                                                                                                    np.std(resultados_temp['test_f1_score']),\n",
        "                                                                                                                    np.mean(resultados_temp['test_gmean']),\n",
        "                                                                                                                    np.std(resultados_temp['test_gmean']),  \n",
        "                                                                                                                    ))\n"
      ],
      "metadata": {
        "id": "RBVSFwK4C6g9",
        "colab": {
          "base_uri": "https://localhost:8080/"
        },
        "outputId": "2bd3e1d0-07d7-459c-8280-2c9135e3abbe"
      },
      "execution_count": 26,
      "outputs": [
        {
          "output_type": "stream",
          "name": "stderr",
          "text": [
            "/usr/local/lib/python3.7/dist-packages/sklearn/linear_model/_logistic.py:818: ConvergenceWarning: lbfgs failed to converge (status=1):\n",
            "STOP: TOTAL NO. of ITERATIONS REACHED LIMIT.\n",
            "\n",
            "Increase the number of iterations (max_iter) or scale the data as shown in:\n",
            "    https://scikit-learn.org/stable/modules/preprocessing.html\n",
            "Please also refer to the documentation for alternative solver options:\n",
            "    https://scikit-learn.org/stable/modules/linear_model.html#logistic-regression\n",
            "  extra_warning_msg=_LOGISTIC_SOLVER_CONVERGENCE_MSG,\n",
            "/usr/local/lib/python3.7/dist-packages/sklearn/linear_model/_logistic.py:818: ConvergenceWarning: lbfgs failed to converge (status=1):\n",
            "STOP: TOTAL NO. of ITERATIONS REACHED LIMIT.\n",
            "\n",
            "Increase the number of iterations (max_iter) or scale the data as shown in:\n",
            "    https://scikit-learn.org/stable/modules/preprocessing.html\n",
            "Please also refer to the documentation for alternative solver options:\n",
            "    https://scikit-learn.org/stable/modules/linear_model.html#logistic-regression\n",
            "  extra_warning_msg=_LOGISTIC_SOLVER_CONVERGENCE_MSG,\n",
            "/usr/local/lib/python3.7/dist-packages/sklearn/linear_model/_logistic.py:818: ConvergenceWarning: lbfgs failed to converge (status=1):\n",
            "STOP: TOTAL NO. of ITERATIONS REACHED LIMIT.\n",
            "\n",
            "Increase the number of iterations (max_iter) or scale the data as shown in:\n",
            "    https://scikit-learn.org/stable/modules/preprocessing.html\n",
            "Please also refer to the documentation for alternative solver options:\n",
            "    https://scikit-learn.org/stable/modules/linear_model.html#logistic-regression\n",
            "  extra_warning_msg=_LOGISTIC_SOLVER_CONVERGENCE_MSG,\n",
            "/usr/local/lib/python3.7/dist-packages/sklearn/linear_model/_logistic.py:818: ConvergenceWarning: lbfgs failed to converge (status=1):\n",
            "STOP: TOTAL NO. of ITERATIONS REACHED LIMIT.\n",
            "\n",
            "Increase the number of iterations (max_iter) or scale the data as shown in:\n",
            "    https://scikit-learn.org/stable/modules/preprocessing.html\n",
            "Please also refer to the documentation for alternative solver options:\n",
            "    https://scikit-learn.org/stable/modules/linear_model.html#logistic-regression\n",
            "  extra_warning_msg=_LOGISTIC_SOLVER_CONVERGENCE_MSG,\n",
            "/usr/local/lib/python3.7/dist-packages/sklearn/linear_model/_logistic.py:818: ConvergenceWarning: lbfgs failed to converge (status=1):\n",
            "STOP: TOTAL NO. of ITERATIONS REACHED LIMIT.\n",
            "\n",
            "Increase the number of iterations (max_iter) or scale the data as shown in:\n",
            "    https://scikit-learn.org/stable/modules/preprocessing.html\n",
            "Please also refer to the documentation for alternative solver options:\n",
            "    https://scikit-learn.org/stable/modules/linear_model.html#logistic-regression\n",
            "  extra_warning_msg=_LOGISTIC_SOLVER_CONVERGENCE_MSG,\n",
            "/usr/local/lib/python3.7/dist-packages/sklearn/linear_model/_logistic.py:818: ConvergenceWarning: lbfgs failed to converge (status=1):\n",
            "STOP: TOTAL NO. of ITERATIONS REACHED LIMIT.\n",
            "\n",
            "Increase the number of iterations (max_iter) or scale the data as shown in:\n",
            "    https://scikit-learn.org/stable/modules/preprocessing.html\n",
            "Please also refer to the documentation for alternative solver options:\n",
            "    https://scikit-learn.org/stable/modules/linear_model.html#logistic-regression\n",
            "  extra_warning_msg=_LOGISTIC_SOLVER_CONVERGENCE_MSG,\n",
            "/usr/local/lib/python3.7/dist-packages/sklearn/linear_model/_logistic.py:818: ConvergenceWarning: lbfgs failed to converge (status=1):\n",
            "STOP: TOTAL NO. of ITERATIONS REACHED LIMIT.\n",
            "\n",
            "Increase the number of iterations (max_iter) or scale the data as shown in:\n",
            "    https://scikit-learn.org/stable/modules/preprocessing.html\n",
            "Please also refer to the documentation for alternative solver options:\n",
            "    https://scikit-learn.org/stable/modules/linear_model.html#logistic-regression\n",
            "  extra_warning_msg=_LOGISTIC_SOLVER_CONVERGENCE_MSG,\n",
            "/usr/local/lib/python3.7/dist-packages/sklearn/linear_model/_logistic.py:818: ConvergenceWarning: lbfgs failed to converge (status=1):\n",
            "STOP: TOTAL NO. of ITERATIONS REACHED LIMIT.\n",
            "\n",
            "Increase the number of iterations (max_iter) or scale the data as shown in:\n",
            "    https://scikit-learn.org/stable/modules/preprocessing.html\n",
            "Please also refer to the documentation for alternative solver options:\n",
            "    https://scikit-learn.org/stable/modules/linear_model.html#logistic-regression\n",
            "  extra_warning_msg=_LOGISTIC_SOLVER_CONVERGENCE_MSG,\n",
            "/usr/local/lib/python3.7/dist-packages/sklearn/linear_model/_logistic.py:818: ConvergenceWarning: lbfgs failed to converge (status=1):\n",
            "STOP: TOTAL NO. of ITERATIONS REACHED LIMIT.\n",
            "\n",
            "Increase the number of iterations (max_iter) or scale the data as shown in:\n",
            "    https://scikit-learn.org/stable/modules/preprocessing.html\n",
            "Please also refer to the documentation for alternative solver options:\n",
            "    https://scikit-learn.org/stable/modules/linear_model.html#logistic-regression\n",
            "  extra_warning_msg=_LOGISTIC_SOLVER_CONVERGENCE_MSG,\n",
            "/usr/local/lib/python3.7/dist-packages/sklearn/linear_model/_logistic.py:818: ConvergenceWarning: lbfgs failed to converge (status=1):\n",
            "STOP: TOTAL NO. of ITERATIONS REACHED LIMIT.\n",
            "\n",
            "Increase the number of iterations (max_iter) or scale the data as shown in:\n",
            "    https://scikit-learn.org/stable/modules/preprocessing.html\n",
            "Please also refer to the documentation for alternative solver options:\n",
            "    https://scikit-learn.org/stable/modules/linear_model.html#logistic-regression\n",
            "  extra_warning_msg=_LOGISTIC_SOLVER_CONVERGENCE_MSG,\n",
            "/usr/local/lib/python3.7/dist-packages/sklearn/linear_model/_logistic.py:818: ConvergenceWarning: lbfgs failed to converge (status=1):\n",
            "STOP: TOTAL NO. of ITERATIONS REACHED LIMIT.\n",
            "\n",
            "Increase the number of iterations (max_iter) or scale the data as shown in:\n",
            "    https://scikit-learn.org/stable/modules/preprocessing.html\n",
            "Please also refer to the documentation for alternative solver options:\n",
            "    https://scikit-learn.org/stable/modules/linear_model.html#logistic-regression\n",
            "  extra_warning_msg=_LOGISTIC_SOLVER_CONVERGENCE_MSG,\n",
            "/usr/local/lib/python3.7/dist-packages/sklearn/linear_model/_logistic.py:818: ConvergenceWarning: lbfgs failed to converge (status=1):\n",
            "STOP: TOTAL NO. of ITERATIONS REACHED LIMIT.\n",
            "\n",
            "Increase the number of iterations (max_iter) or scale the data as shown in:\n",
            "    https://scikit-learn.org/stable/modules/preprocessing.html\n",
            "Please also refer to the documentation for alternative solver options:\n",
            "    https://scikit-learn.org/stable/modules/linear_model.html#logistic-regression\n",
            "  extra_warning_msg=_LOGISTIC_SOLVER_CONVERGENCE_MSG,\n",
            "/usr/local/lib/python3.7/dist-packages/sklearn/linear_model/_logistic.py:818: ConvergenceWarning: lbfgs failed to converge (status=1):\n",
            "STOP: TOTAL NO. of ITERATIONS REACHED LIMIT.\n",
            "\n",
            "Increase the number of iterations (max_iter) or scale the data as shown in:\n",
            "    https://scikit-learn.org/stable/modules/preprocessing.html\n",
            "Please also refer to the documentation for alternative solver options:\n",
            "    https://scikit-learn.org/stable/modules/linear_model.html#logistic-regression\n",
            "  extra_warning_msg=_LOGISTIC_SOLVER_CONVERGENCE_MSG,\n",
            "/usr/local/lib/python3.7/dist-packages/sklearn/linear_model/_logistic.py:818: ConvergenceWarning: lbfgs failed to converge (status=1):\n",
            "STOP: TOTAL NO. of ITERATIONS REACHED LIMIT.\n",
            "\n",
            "Increase the number of iterations (max_iter) or scale the data as shown in:\n",
            "    https://scikit-learn.org/stable/modules/preprocessing.html\n",
            "Please also refer to the documentation for alternative solver options:\n",
            "    https://scikit-learn.org/stable/modules/linear_model.html#logistic-regression\n",
            "  extra_warning_msg=_LOGISTIC_SOLVER_CONVERGENCE_MSG,\n",
            "/usr/local/lib/python3.7/dist-packages/sklearn/linear_model/_logistic.py:818: ConvergenceWarning: lbfgs failed to converge (status=1):\n",
            "STOP: TOTAL NO. of ITERATIONS REACHED LIMIT.\n",
            "\n",
            "Increase the number of iterations (max_iter) or scale the data as shown in:\n",
            "    https://scikit-learn.org/stable/modules/preprocessing.html\n",
            "Please also refer to the documentation for alternative solver options:\n",
            "    https://scikit-learn.org/stable/modules/linear_model.html#logistic-regression\n",
            "  extra_warning_msg=_LOGISTIC_SOLVER_CONVERGENCE_MSG,\n"
          ]
        },
        {
          "output_type": "stream",
          "name": "stdout",
          "text": [
            "REGRESIÓN LOGÍSTICA\n",
            "\n",
            "Métricas de entrenamiento \n",
            " Accuracy promedio: 0.797 (0.0070)\n",
            " Precisión promedio: 0.823 (0.0078)\n",
            " Recall promedio: 0.908 (0.0054)\n",
            " F1-score promedio: 0.864 (0.0042) \n",
            " Gmean promedio: 0.691 (0.0166)\n",
            "\n",
            "Métricas de validación\n",
            " Accuracy promedio: 0.763 (0.0313)\n",
            " Precisión promedio: 0.806 (0.0213)\n",
            " Recall promedio: 0.877 (0.0286)\n",
            " F1-score promedio: 0.840 (0.0216) \n",
            " Gmean promedio: 0.653 (0.0464)\n",
            " ------------------- \n",
            "\n",
            "ÁRBOL DE DECISIÓN\n",
            "\n",
            "Métricas de entrenamiento \n",
            " Accuracy promedio: 1.000 (0.0000)\n",
            " Precisión promedio: 1.000 (0.0000)\n",
            " Recall promedio: 1.000 (0.0000)\n",
            " F1-score promedio: 1.000 (0.0000) \n",
            " Gmean promedio: 1.000 (0.0000)\n",
            "\n",
            "Métricas de validación\n",
            " Accuracy promedio: 0.685 (0.0269)\n",
            " Precisión promedio: 0.785 (0.0222)\n",
            " Recall promedio: 0.766 (0.0355)\n",
            " F1-score promedio: 0.775 (0.0207) \n",
            " Gmean promedio: 0.609 (0.0476)\n",
            " ------------------- \n",
            "\n",
            "BOSQUE ALEATORIO\n",
            "\n",
            "Métricas de entrenamiento \n",
            " Accuracy promedio: 1.000 (0.0000)\n",
            " Precisión promedio: 1.000 (0.0000)\n",
            " Recall promedio: 1.000 (0.0000)\n",
            " F1-score promedio: 1.000 (0.0000) \n",
            " Gmean promedio: 1.000 (0.0000)\n",
            "\n",
            "Métricas de validación\n",
            " Accuracy promedio: 0.762 (0.0227)\n",
            " Precisión promedio: 0.792 (0.0151)\n",
            " Recall promedio: 0.902 (0.0260)\n",
            " F1-score promedio: 0.843 (0.0155) \n",
            " Gmean promedio: 0.617 (0.0370)\n",
            " ------------------- \n",
            "\n"
          ]
        }
      ]
    },
    {
      "cell_type": "markdown",
      "source": [
        "## Box-plot de recall (entrenamiento y validación)"
      ],
      "metadata": {
        "id": "KJ9NwG7-J4-7"
      }
    },
    {
      "cell_type": "code",
      "source": [
        "# Diagrama de caja y bigotes\n",
        "\n",
        "sns.set(rc={'figure.figsize':(8,4)})\n",
        "\n",
        "# Entrenamiento\n",
        "recall_r = list()\n",
        "for i in range(len(resultados)):\n",
        "  rr = resultados[i]['train_recall']\n",
        "  recall_r.append(rr)\n",
        "plt.boxplot(recall_r, labels = nombres, showmeans = True)\n",
        "plt.title('Eentrenamiento')\n",
        "plt.show()\n",
        "\n",
        "# Validación\n",
        "recall_r = list()\n",
        "for i in range(len(resultados)):\n",
        "  rr = resultados[i]['test_recall']\n",
        "  recall_r.append(rr)\n",
        "plt.boxplot(recall_r, labels = nombres, showmeans = True)\n",
        "plt.title('Validación')\n",
        "plt.show()"
      ],
      "metadata": {
        "id": "7KXnlNzAC69Y",
        "colab": {
          "base_uri": "https://localhost:8080/",
          "height": 551
        },
        "outputId": "1c4831bb-4d7d-4211-996b-e26c10aecf0f"
      },
      "execution_count": 27,
      "outputs": [
        {
          "output_type": "display_data",
          "data": {
            "text/plain": [
              "<Figure size 576x288 with 1 Axes>"
            ],
            "image/png": "[encoded data removed]"
          },
          "metadata": {}
        },
        {
          "output_type": "display_data",
          "data": {
            "text/plain": [
              "<Figure size 576x288 with 1 Axes>"
            ],
            "image/png": "[encoded data removed]"
          },
          "metadata": {}
        }
      ]
    },
    {
      "cell_type": "markdown",
      "source": [
        "¿Alguno de los modelos está subentrenado o sobreentrenado? Justifica tu respuesta.\n",
        "\n",
        "Basándonos en la observación comparativa de la métrica de recall sobre los conjuntos tanto de entrenamiento como de validación, se puede concluir lo siguiente:\n",
        "* Para el caso del modelo de regresión logística, se pueden observar comportamientos muy similares entre los resultados tanto para el conjunto de entrenamiento como el de validación. Los resultados de validación son menores que los de entrenamiento, pero su varianza promedio es de alrededor del 5% (lo cual puede indicar un ligero sobre entrenamiento).\n",
        "* Para el caso del modelo de árbol de decisión, se puede notar un claro sobre entrenamiento ya que el resultado de la validación cruzada para el conjunto de entrenamiento es de un 100% (un valor perfecto) mientras que, para los valores de validación, se tienen desempeños relativamente bajo, teniendo una varianza de alrededor de 25%.\n",
        "* Para el caso del modelo de bosque aleatorio, de manera semejante al caso de árboles de decisión, pero en menor medida, parece existir un cierto sobre entrenamiento pues el modelo para el conjunto de entrenamiento tiene una puntuación del 100% para todos sus casos, mientras que los valores de validación, aunque con una especificidad relativamente elevada (al rededor del 90%), mantiene una varianza aproximada del 10% con respecto a su desempeño con los resultados en el conjunto de entrenamiento.\n"
      ],
      "metadata": {
        "id": "QQMl6CKIJ9I6"
      }
    },
    {
      "cell_type": "markdown",
      "source": [
        "## Curvas de aprendizaje y validación"
      ],
      "metadata": {
        "id": "Y_W72w0fN_3E"
      }
    },
    {
      "cell_type": "markdown",
      "source": [
        "e. En particular obtengamos algunas de las llamadas curvas de aprendizaje para algunos de \n",
        "estos casos. En dada gráfico debes incluir tus comentarios sobre el modelo generado:"
      ],
      "metadata": {
        "id": "AKbWCUjIO8_0"
      }
    },
    {
      "cell_type": "code",
      "source": [
        "# Función para despliqgue de gráficas\n",
        "\n",
        "def mi_LearningCurvePlot(train_sizes, train_scores, val_scores,metrica,titulo,tipo_de_curva):\n",
        "    \"\"\"\n",
        "     Argumentos de entrada de la función mi_LearningCurvePlot:\n",
        "          train_sizes : número de observaciones en el conjunto de entrenamiento.\n",
        "          train_scores : Exactitud de cada partición en el proceso de Validación-Cruzada (VC) en los datos de entrenamiento.\n",
        "                         La dimensión de este conjunto es (pxq) \n",
        "                                         donde p=\"número de particiones de manera incremental del conjunto de entrenamiento\".\n",
        "                                               q=\"número de particiones de VC\" * \"número de repeticiones de VC con RepitedStratifiedCV\"\n",
        "          val_scores : Exactitud de cada partición en el proceso de Validación-Cruzada en los datos de validación.\n",
        "                       Es de la misma dimensión que los train_scores. \n",
        "    Output: la salida es el gráfico con las curvas de aprendizaje.\n",
        "    \"\"\"\n",
        "    # Obtenemos los promedios y desviaciones estándar de cada renglón de los resultados de entrenamiento y validación\n",
        "    # La dimensión de cada uno es p=\"número de particiones de manera incremental del conjunto de entrenamiento\".\n",
        "    train_mean = np.mean(train_scores, axis=1)\n",
        "    train_std = np.std(train_scores, axis=1)\n",
        "    val_mean = np.mean(val_scores, axis=1)\n",
        "    val_std = np.std(val_scores, axis=1)\n",
        "\n",
        "    # Graficamos las curvas de aprendizaje incluyendo una región indicando la desviación estándar.\n",
        "    plt.figure(figsize=(7,6))\n",
        "    plt.plot(train_sizes, train_mean, color='blue', marker='o', markersize=5, label='Training')\n",
        "    plt.fill_between(train_sizes, train_mean + train_std, train_mean - train_std, alpha=0.1, color='blue')\n",
        "    \n",
        "    plt.plot(train_sizes, val_mean, color='red', marker='+', markersize=5, linestyle='--', label='Validation')\n",
        "    plt.fill_between(train_sizes, val_mean + val_std, val_mean - val_std, alpha=0.1, color='red')\n",
        "    \n",
        "    plt.title('{}'.format(titulo))\n",
        "\n",
        "    if tipo_de_curva == 'learning_curve':\n",
        "      plt.xlabel('Tamaño del conjunto de entrenamiento')\n",
        "    elif tipo_de_curva =='validation_curve':\n",
        "      plt.xlabel('Valor de parámetro')\n",
        "    \n",
        "    plt.ylabel('{}'.format(metrica))\n",
        "    plt.grid()\n",
        "    plt.legend(loc='lower left')\n",
        "    plt.show()"
      ],
      "metadata": {
        "id": "ijlHBVEsOQTT"
      },
      "execution_count": 41,
      "outputs": []
    },
    {
      "cell_type": "code",
      "source": [
        "# Omitimos los warnings de scikitlearn\n",
        "import warnings\n",
        "warnings.filterwarnings(\"ignore\") "
      ],
      "metadata": {
        "id": "LqmuahMlj2gv"
      },
      "execution_count": 36,
      "outputs": []
    },
    {
      "cell_type": "code",
      "source": [
        "for i in range(len(modelos)):\n",
        "  pipeline = Pipeline(steps=[('ct',columnasTransformer),('m',modelos[i])])\n",
        "  mi_kfold = RepeatedStratifiedKFold(n_splits = 5, n_repeats = 3, random_state= 7)\n",
        "  \n",
        "  if nombres[i] == 'Regresión Logística':\n",
        "    delta_train_sz = np.linspace(0.1,1.0,40)\n",
        "    tr_sizes, tr_scores, val_scores = learning_curve(estimator = pipeline,    \n",
        "                                                  X = X_train,\n",
        "                                                  y = np.ravel(y_train),\n",
        "                                                  cv = mi_kfold ,\n",
        "                                                  train_sizes = delta_train_sz,\n",
        "                                                  random_state=11,\n",
        "                                                  scoring = make_scorer(mi_f1_score))\n",
        "    mi_LearningCurvePlot(tr_sizes, tr_scores, val_scores,'f1_score','Curva de Aprendizaje incrementando el tamaño de la muestra: {}'.format(nombres[i]),'learning_curve')\n",
        "\n",
        "  elif nombres[i] == 'Árbol de Decisión':\n",
        "    delta_max_depth = np.linspace(1,20,20)\n",
        "\n",
        "    train_scores, valid_scores = validation_curve(modelos[i],\n",
        "                                                  X_train,\n",
        "                                                  np.ravel(y_train),\n",
        "                                                  param_name=\"max_depth\",\n",
        "                                                  param_range=delta_max_depth,\n",
        "                                                  cv=mi_kfold,\n",
        "                                                  scoring=make_scorer(mi_f1_score))\n",
        "    mi_LearningCurvePlot(delta_max_depth, train_scores, valid_scores,'f1_score', 'Curva de Validación incrementandola complejidad de parámetro max_depth: {}'.format(nombres[i]),'validation_curve')\n",
        "\n",
        "  elif nombres[i] == 'Bosque Aleatorio':\n",
        "    delta_train_sz = np.linspace(0.1,1.0,20)\n",
        "\n",
        "    tr_sizes, tr_scores, val_scores = learning_curve(estimator = pipeline,    \n",
        "                                                  X = X_train,\n",
        "                                                  y = np.ravel(y_train),\n",
        "                                                  cv = mi_kfold ,\n",
        "                                                  train_sizes = delta_train_sz,\n",
        "                                                  random_state=11,\n",
        "                                                  scoring = make_scorer(mi_recall))\n",
        "    mi_LearningCurvePlot(tr_sizes, tr_scores, val_scores,'recall','Curva de Aprendizaje incrementando el tamaño de la muestra: {}'.format(nombres[i]),'learning_curve')"
      ],
      "metadata": {
        "colab": {
          "base_uri": "https://localhost:8080/",
          "height": 1000
        },
        "id": "5EeeWI4qQfi7",
        "outputId": "2779ea54-e5bf-40ed-d658-e987e68de341"
      },
      "execution_count": 42,
      "outputs": [
        {
          "output_type": "display_data",
          "data": {
            "text/plain": [
              "<Figure size 504x432 with 1 Axes>"
            ],
            "image/png": "[encoded data removed]"
          },
          "metadata": {}
        },
        {
          "output_type": "display_data",
          "data": {
            "text/plain": [
              "<Figure size 504x432 with 1 Axes>"
            ],
            "image/png": "[encoded data removed]"
          },
          "metadata": {}
        },
        {
          "output_type": "display_data",
          "data": {
            "text/plain": [
              "<Figure size 504x432 with 1 Axes>"
            ],
            "image/png": "[encoded data removed]"
          },
          "metadata": {}
        }
      ]
    },
    {
      "cell_type": "markdown",
      "source": [
        "i. Obtener las curvas de aprendizaje (learning_curve) en la cual se va incrementando \n",
        "el tamaño de la muestra para el modelo de regresión Logística con su \n",
        "hiperparámetros predeterminados. Utilizar al menos 20 puntos en la partición de \n",
        "los conjuntos de entrenamiento y la métrica “f1-score”, como evaluación del \n",
        "desempeño de dicha función “learning_curve()”. "
      ],
      "metadata": {
        "id": "9YkE7wjLOw2L"
      }
    },
    {
      "cell_type": "code",
      "source": [
        "\n",
        "delta_train_sz = np.linspace(0.1,1.0,40)\n",
        "\n",
        "tr_sizes, tr_scores, val_scores = learning_curve(estimator = pipeline,    \n",
        "                                                  X = X_train,\n",
        "                                                  y = np.ravel(y_train),\n",
        "                                                  cv = mi_kfold ,\n",
        "                                                  train_sizes = delta_train_sz,\n",
        "                                                  random_state=11,\n",
        "                                                  scoring = make_scorer(mi_f1_score))\n",
        "\n",
        "mi_LearningCurvePlot(tr_sizes, tr_scores, val_scores)"
      ],
      "metadata": {
        "id": "7I7zLtC5PBv9"
      },
      "execution_count": null,
      "outputs": []
    },
    {
      "cell_type": "markdown",
      "source": [
        "ii. Obtener las curvas de validación (validation_curve) en la cual se va incrementando \n",
        "la complejidad del hiperparámetro “max_depth” para el modelo de árbol de \n",
        "decisión con sus hiperparámetros predeterminados. Utilizar valores de máxima \n",
        "profundidad desde 1 hasta 20 y con la métrica “f1-score” para la evaluación del \n",
        "desempeño del modelo. "
      ],
      "metadata": {
        "id": "d2Nn8jwKPCCd"
      }
    },
    {
      "cell_type": "code",
      "source": [],
      "metadata": {
        "id": "oKRVKnlMPCrU"
      },
      "execution_count": null,
      "outputs": []
    },
    {
      "cell_type": "markdown",
      "source": [
        "iii. Obtener las curvas de aprendizaje (learning_curve) en la cual se va incrementando \n",
        "el tamaño de la muestra para el modelo de regresión bosque aleatorio (random \n",
        "forest) con su hiperparámetros predeterminados. Utilizar al menos 20 puntos en \n",
        "la partición de los conjuntos de entrenamiento y la métrica “recall”, como \n",
        "evaluación del desempeño del modelo. \n"
      ],
      "metadata": {
        "id": "ibCC1AEHPC4n"
      }
    },
    {
      "cell_type": "code",
      "source": [],
      "metadata": {
        "id": "M2iHSZS8PDga"
      },
      "execution_count": null,
      "outputs": []
    },
    {
      "cell_type": "markdown",
      "source": [
        "#**Ejercicio-5.**"
      ],
      "metadata": {
        "id": "Rv7KFq-mC7PS"
      }
    },
    {
      "cell_type": "code",
      "source": [
        "None"
      ],
      "metadata": {
        "id": "jaDj3kawC9B6"
      },
      "execution_count": null,
      "outputs": []
    },
    {
      "cell_type": "markdown",
      "source": [
        "#**Ejercicio-6.**"
      ],
      "metadata": {
        "id": "W2S7LI0NC9wE"
      }
    },
    {
      "cell_type": "code",
      "source": [
        "None"
      ],
      "metadata": {
        "id": "x6uBleJUC_AU"
      },
      "execution_count": null,
      "outputs": []
    },
    {
      "cell_type": "markdown",
      "source": [
        "###**Fin de la Actividad de la semana 6.**"
      ],
      "metadata": {
        "id": "7ql_r2G-DB_m"
      }
    }
  ]
}